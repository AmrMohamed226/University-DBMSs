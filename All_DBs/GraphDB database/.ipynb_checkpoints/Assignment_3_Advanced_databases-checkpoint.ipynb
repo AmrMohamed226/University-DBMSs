{
 "cells": [
  {
   "cell_type": "code",
   "execution_count": 4,
   "id": "4a233d20",
   "metadata": {
    "id": "4a233d20"
   },
   "outputs": [],
   "source": [
    "import csv\n",
    "from rdflib import Graph, Literal, Namespace, URIRef\n",
    "from rdflib.namespace import DCTERMS, RDF, RDFS, SKOS, XSD\n",
    "import pandas as pd\n",
    "# import rdfpandas"
   ]
  },
  {
   "cell_type": "code",
   "execution_count": 5,
   "id": "EGcbjNLDdl6W",
   "metadata": {
    "id": "EGcbjNLDdl6W"
   },
   "outputs": [],
   "source": [
    "# pip install rdflib"
   ]
  },
  {
   "cell_type": "code",
   "execution_count": 7,
   "id": "3b4e489d",
   "metadata": {
    "id": "3b4e489d"
   },
   "outputs": [],
   "source": [
    "Assigned_Hours=pd.read_csv('Assigned_Hours.csv')\n",
    "Course_Instances=pd.read_csv('Course_Instances.csv')\n",
    "Course_plannings=pd.read_csv('Course_plannings.csv')\n",
    "Courses=pd.read_csv('Courses.csv')\n",
    "Programme_Courses=pd.read_csv('Programme_Courses.csv')\n",
    "Programmes=pd.read_csv('Programmes.csv')\n",
    "Registrations=pd.read_csv('Registrations.csv')\n",
    "Reported_Hours=pd.read_csv('Reported_Hours.csv')\n",
    "Senior_Teachers=pd.read_csv('Senior_Teachers.csv')\n",
    "Students=pd.read_csv('Students.csv')\n",
    "Teaching_Assistants=pd.read_csv('Teaching_Assistants.csv')"
   ]
  },
  {
   "cell_type": "markdown",
   "id": "yVzK_bQma4gn",
   "metadata": {
    "id": "yVzK_bQma4gn"
   },
   "source": [
    "# Teaching Assistants\n"
   ]
  },
  {
   "cell_type": "code",
   "execution_count": 8,
   "id": "dc4e0bde",
   "metadata": {
    "colab": {
     "base_uri": "https://localhost:8080/",
     "height": 206
    },
    "id": "dc4e0bde",
    "outputId": "e744cadc-62e7-43e9-cf08-bb40d2bef9c2"
   },
   "outputs": [
    {
     "data": {
      "text/html": [
       "<div>\n",
       "<style scoped>\n",
       "    .dataframe tbody tr th:only-of-type {\n",
       "        vertical-align: middle;\n",
       "    }\n",
       "\n",
       "    .dataframe tbody tr th {\n",
       "        vertical-align: top;\n",
       "    }\n",
       "\n",
       "    .dataframe thead th {\n",
       "        text-align: right;\n",
       "    }\n",
       "</style>\n",
       "<table border=\"1\" class=\"dataframe\">\n",
       "  <thead>\n",
       "    <tr style=\"text-align: right;\">\n",
       "      <th></th>\n",
       "      <th>Teacher name</th>\n",
       "      <th>Teacher id</th>\n",
       "      <th>Department name</th>\n",
       "      <th>Division name</th>\n",
       "    </tr>\n",
       "  </thead>\n",
       "  <tbody>\n",
       "    <tr>\n",
       "      <th>0</th>\n",
       "      <td>TA 151</td>\n",
       "      <td>19780321-0151</td>\n",
       "      <td>D1</td>\n",
       "      <td>D1-2</td>\n",
       "    </tr>\n",
       "    <tr>\n",
       "      <th>1</th>\n",
       "      <td>TA 152</td>\n",
       "      <td>19751107-0152</td>\n",
       "      <td>D7</td>\n",
       "      <td>D7-2</td>\n",
       "    </tr>\n",
       "    <tr>\n",
       "      <th>2</th>\n",
       "      <td>TA 153</td>\n",
       "      <td>19760106-0153</td>\n",
       "      <td>D7</td>\n",
       "      <td>D7-0</td>\n",
       "    </tr>\n",
       "    <tr>\n",
       "      <th>3</th>\n",
       "      <td>TA 154</td>\n",
       "      <td>19780210-0154</td>\n",
       "      <td>D6</td>\n",
       "      <td>D6-5</td>\n",
       "    </tr>\n",
       "    <tr>\n",
       "      <th>4</th>\n",
       "      <td>TA 155</td>\n",
       "      <td>19750330-0155</td>\n",
       "      <td>D1</td>\n",
       "      <td>D1-5</td>\n",
       "    </tr>\n",
       "  </tbody>\n",
       "</table>\n",
       "</div>"
      ],
      "text/plain": [
       "  Teacher name     Teacher id Department name Division name\n",
       "0       TA 151  19780321-0151              D1          D1-2\n",
       "1       TA 152  19751107-0152              D7          D7-2\n",
       "2       TA 153  19760106-0153              D7          D7-0\n",
       "3       TA 154  19780210-0154              D6          D6-5\n",
       "4       TA 155  19750330-0155              D1          D1-5"
      ]
     },
     "execution_count": 8,
     "metadata": {},
     "output_type": "execute_result"
    }
   ],
   "source": [
    "Teaching_Assistants.head()"
   ]
  },
  {
   "cell_type": "code",
   "execution_count": 9,
   "id": "ab66d0b0",
   "metadata": {
    "id": "ab66d0b0"
   },
   "outputs": [],
   "source": [
    "Teaching_Assistants.rename(columns={\"Teacher name\": \"personName\", \"Teacher id\": \"personID\", \"Department name\": \"departmentName\",'Division name': \"divisionName\"}, inplace=True)"
   ]
  },
  {
   "cell_type": "code",
   "execution_count": 10,
   "id": "a063c409",
   "metadata": {
    "id": "a063c409"
   },
   "outputs": [],
   "source": [
    "Teaching_Assistants['personName'] = Teaching_Assistants['personName'].str.replace(' ','-')"
   ]
  },
  {
   "cell_type": "code",
   "execution_count": 11,
   "id": "9ff45706",
   "metadata": {
    "colab": {
     "base_uri": "https://localhost:8080/"
    },
    "id": "9ff45706",
    "outputId": "6d02e409-029b-442c-e04b-f86bb25157f6"
   },
   "outputs": [
    {
     "data": {
      "text/plain": [
       "Index(['personName', 'personID', 'departmentName', 'divisionName'], dtype='object')"
      ]
     },
     "execution_count": 11,
     "metadata": {},
     "output_type": "execute_result"
    }
   ],
   "source": [
    "Teaching_Assistants.columns"
   ]
  },
  {
   "cell_type": "code",
   "execution_count": 12,
   "id": "40ef247d",
   "metadata": {
    "colab": {
     "base_uri": "https://localhost:8080/",
     "height": 206
    },
    "id": "40ef247d",
    "outputId": "bdab841c-ff63-4a9d-8276-6e59c676ce42"
   },
   "outputs": [
    {
     "data": {
      "text/html": [
       "<div>\n",
       "<style scoped>\n",
       "    .dataframe tbody tr th:only-of-type {\n",
       "        vertical-align: middle;\n",
       "    }\n",
       "\n",
       "    .dataframe tbody tr th {\n",
       "        vertical-align: top;\n",
       "    }\n",
       "\n",
       "    .dataframe thead th {\n",
       "        text-align: right;\n",
       "    }\n",
       "</style>\n",
       "<table border=\"1\" class=\"dataframe\">\n",
       "  <thead>\n",
       "    <tr style=\"text-align: right;\">\n",
       "      <th></th>\n",
       "      <th>personName</th>\n",
       "      <th>personID</th>\n",
       "      <th>departmentName</th>\n",
       "      <th>divisionName</th>\n",
       "    </tr>\n",
       "  </thead>\n",
       "  <tbody>\n",
       "    <tr>\n",
       "      <th>0</th>\n",
       "      <td>TA-151</td>\n",
       "      <td>19780321-0151</td>\n",
       "      <td>D1</td>\n",
       "      <td>D1-2</td>\n",
       "    </tr>\n",
       "    <tr>\n",
       "      <th>1</th>\n",
       "      <td>TA-152</td>\n",
       "      <td>19751107-0152</td>\n",
       "      <td>D7</td>\n",
       "      <td>D7-2</td>\n",
       "    </tr>\n",
       "    <tr>\n",
       "      <th>2</th>\n",
       "      <td>TA-153</td>\n",
       "      <td>19760106-0153</td>\n",
       "      <td>D7</td>\n",
       "      <td>D7-0</td>\n",
       "    </tr>\n",
       "    <tr>\n",
       "      <th>3</th>\n",
       "      <td>TA-154</td>\n",
       "      <td>19780210-0154</td>\n",
       "      <td>D6</td>\n",
       "      <td>D6-5</td>\n",
       "    </tr>\n",
       "    <tr>\n",
       "      <th>4</th>\n",
       "      <td>TA-155</td>\n",
       "      <td>19750330-0155</td>\n",
       "      <td>D1</td>\n",
       "      <td>D1-5</td>\n",
       "    </tr>\n",
       "  </tbody>\n",
       "</table>\n",
       "</div>"
      ],
      "text/plain": [
       "  personName       personID departmentName divisionName\n",
       "0     TA-151  19780321-0151             D1         D1-2\n",
       "1     TA-152  19751107-0152             D7         D7-2\n",
       "2     TA-153  19760106-0153             D7         D7-0\n",
       "3     TA-154  19780210-0154             D6         D6-5\n",
       "4     TA-155  19750330-0155             D1         D1-5"
      ]
     },
     "execution_count": 12,
     "metadata": {},
     "output_type": "execute_result"
    }
   ],
   "source": [
    "Teaching_Assistants.head()"
   ]
  },
  {
   "cell_type": "code",
   "execution_count": 13,
   "id": "0b57ed86",
   "metadata": {
    "id": "0b57ed86",
    "scrolled": true
   },
   "outputs": [],
   "source": [
    "#http://www.semanticweb.org/keyha/ontologies/2022/3/untitled-ontology-11#\n",
    "\n",
    "# make a graph\n",
    "output_graph = Graph()\n",
    "uri=\"http://www.semanticweb.org/keyha/ontologies/2022/3/untitled-ontology-11#\"\n",
    "\n",
    "for index, row in Teaching_Assistants.iterrows():\n",
    "\n",
    "    # make a triple with the object as uri\n",
    "    output_graph.add(  (URIRef(uri+row.personID),\n",
    "                        URIRef(uri+\"Domain\"),\n",
    "                        URIRef(uri+\"Person\") ))\n",
    "    \n",
    "    output_graph.add(  (URIRef(uri+row.personName),\n",
    "                        URIRef(uri+\"Domain\"),\n",
    "                        URIRef(uri+\"Person\") ))\n",
    "    \n",
    "    output_graph.add(  (URIRef(uri+row.departmentName),\n",
    "                        URIRef(uri+\"Domain\"),\n",
    "                        URIRef(uri+\"Department\") ))\n",
    "    \n",
    "    output_graph.add(  (URIRef(uri+row.divisionName),\n",
    "                        URIRef(uri+\"Domain\"),\n",
    "                        URIRef(uri+\"Devision\") ))"
   ]
  },
  {
   "cell_type": "markdown",
   "id": "u9mWV9ZlbX0S",
   "metadata": {
    "id": "u9mWV9ZlbX0S"
   },
   "source": [
    "# Senior Teachers"
   ]
  },
  {
   "cell_type": "code",
   "execution_count": 18,
   "id": "e0f9d486",
   "metadata": {
    "colab": {
     "base_uri": "https://localhost:8080/",
     "height": 206
    },
    "id": "dc4e0bde",
    "outputId": "e744cadc-62e7-43e9-cf08-bb40d2bef9c2"
   },
   "outputs": [
    {
     "data": {
      "text/html": [
       "<div>\n",
       "<style scoped>\n",
       "    .dataframe tbody tr th:only-of-type {\n",
       "        vertical-align: middle;\n",
       "    }\n",
       "\n",
       "    .dataframe tbody tr th {\n",
       "        vertical-align: top;\n",
       "    }\n",
       "\n",
       "    .dataframe thead th {\n",
       "        text-align: right;\n",
       "    }\n",
       "</style>\n",
       "<table border=\"1\" class=\"dataframe\">\n",
       "  <thead>\n",
       "    <tr style=\"text-align: right;\">\n",
       "      <th></th>\n",
       "      <th>Teacher name</th>\n",
       "      <th>Teacher id</th>\n",
       "      <th>Department name</th>\n",
       "      <th>Division name</th>\n",
       "    </tr>\n",
       "  </thead>\n",
       "  <tbody>\n",
       "    <tr>\n",
       "      <th>0</th>\n",
       "      <td>Teacher 1</td>\n",
       "      <td>19550711-0001</td>\n",
       "      <td>D1</td>\n",
       "      <td>D1-3</td>\n",
       "    </tr>\n",
       "    <tr>\n",
       "      <th>1</th>\n",
       "      <td>Teacher 2</td>\n",
       "      <td>19640131-0002</td>\n",
       "      <td>D3</td>\n",
       "      <td>D3-5</td>\n",
       "    </tr>\n",
       "    <tr>\n",
       "      <th>2</th>\n",
       "      <td>Teacher 3</td>\n",
       "      <td>19590109-0003</td>\n",
       "      <td>D7</td>\n",
       "      <td>D7-3</td>\n",
       "    </tr>\n",
       "    <tr>\n",
       "      <th>3</th>\n",
       "      <td>Teacher 4</td>\n",
       "      <td>19641017-0004</td>\n",
       "      <td>D1</td>\n",
       "      <td>D1-3</td>\n",
       "    </tr>\n",
       "    <tr>\n",
       "      <th>4</th>\n",
       "      <td>Teacher 5</td>\n",
       "      <td>19630316-0005</td>\n",
       "      <td>D5</td>\n",
       "      <td>D5-2</td>\n",
       "    </tr>\n",
       "  </tbody>\n",
       "</table>\n",
       "</div>"
      ],
      "text/plain": [
       "  Teacher name     Teacher id Department name Division name\n",
       "0    Teacher 1  19550711-0001              D1          D1-3\n",
       "1    Teacher 2  19640131-0002              D3          D3-5\n",
       "2    Teacher 3  19590109-0003              D7          D7-3\n",
       "3    Teacher 4  19641017-0004              D1          D1-3\n",
       "4    Teacher 5  19630316-0005              D5          D5-2"
      ]
     },
     "execution_count": 18,
     "metadata": {},
     "output_type": "execute_result"
    }
   ],
   "source": [
    "Senior_Teachers.head()"
   ]
  },
  {
   "cell_type": "code",
   "execution_count": 19,
   "id": "ab66d0b0",
   "metadata": {
    "id": "ab66d0b0"
   },
   "outputs": [],
   "source": [
    "Senior_Teachers.rename(columns={\"Teacher name\": \"personName\", \"Teacher id\": \"personID\", \"Department name\": \"departmentName\",'Division name': \"divisionName\"}, inplace=True)"
   ]
  },
  {
   "cell_type": "code",
   "execution_count": 20,
   "id": "a063c409",
   "metadata": {
    "id": "a063c409"
   },
   "outputs": [],
   "source": [
    "Senior_Teachers['personName'] = Teaching_Assistants['personName'].str.replace(' ','-')"
   ]
  },
  {
   "cell_type": "code",
   "execution_count": 21,
   "id": "9ff45706",
   "metadata": {
    "colab": {
     "base_uri": "https://localhost:8080/"
    },
    "id": "9ff45706",
    "outputId": "6d02e409-029b-442c-e04b-f86bb25157f6"
   },
   "outputs": [
    {
     "data": {
      "text/plain": [
       "Index(['personName', 'personID', 'departmentName', 'divisionName'], dtype='object')"
      ]
     },
     "execution_count": 21,
     "metadata": {},
     "output_type": "execute_result"
    }
   ],
   "source": [
    "Senior_Teachers.columns"
   ]
  },
  {
   "cell_type": "code",
   "execution_count": 22,
   "id": "40ef247d",
   "metadata": {
    "colab": {
     "base_uri": "https://localhost:8080/",
     "height": 206
    },
    "id": "40ef247d",
    "outputId": "bdab841c-ff63-4a9d-8276-6e59c676ce42"
   },
   "outputs": [
    {
     "data": {
      "text/html": [
       "<div>\n",
       "<style scoped>\n",
       "    .dataframe tbody tr th:only-of-type {\n",
       "        vertical-align: middle;\n",
       "    }\n",
       "\n",
       "    .dataframe tbody tr th {\n",
       "        vertical-align: top;\n",
       "    }\n",
       "\n",
       "    .dataframe thead th {\n",
       "        text-align: right;\n",
       "    }\n",
       "</style>\n",
       "<table border=\"1\" class=\"dataframe\">\n",
       "  <thead>\n",
       "    <tr style=\"text-align: right;\">\n",
       "      <th></th>\n",
       "      <th>personName</th>\n",
       "      <th>personID</th>\n",
       "      <th>departmentName</th>\n",
       "      <th>divisionName</th>\n",
       "    </tr>\n",
       "  </thead>\n",
       "  <tbody>\n",
       "    <tr>\n",
       "      <th>0</th>\n",
       "      <td>TA-151</td>\n",
       "      <td>19550711-0001</td>\n",
       "      <td>D1</td>\n",
       "      <td>D1-3</td>\n",
       "    </tr>\n",
       "    <tr>\n",
       "      <th>1</th>\n",
       "      <td>TA-152</td>\n",
       "      <td>19640131-0002</td>\n",
       "      <td>D3</td>\n",
       "      <td>D3-5</td>\n",
       "    </tr>\n",
       "    <tr>\n",
       "      <th>2</th>\n",
       "      <td>TA-153</td>\n",
       "      <td>19590109-0003</td>\n",
       "      <td>D7</td>\n",
       "      <td>D7-3</td>\n",
       "    </tr>\n",
       "    <tr>\n",
       "      <th>3</th>\n",
       "      <td>TA-154</td>\n",
       "      <td>19641017-0004</td>\n",
       "      <td>D1</td>\n",
       "      <td>D1-3</td>\n",
       "    </tr>\n",
       "    <tr>\n",
       "      <th>4</th>\n",
       "      <td>TA-155</td>\n",
       "      <td>19630316-0005</td>\n",
       "      <td>D5</td>\n",
       "      <td>D5-2</td>\n",
       "    </tr>\n",
       "  </tbody>\n",
       "</table>\n",
       "</div>"
      ],
      "text/plain": [
       "  personName       personID departmentName divisionName\n",
       "0     TA-151  19550711-0001             D1         D1-3\n",
       "1     TA-152  19640131-0002             D3         D3-5\n",
       "2     TA-153  19590109-0003             D7         D7-3\n",
       "3     TA-154  19641017-0004             D1         D1-3\n",
       "4     TA-155  19630316-0005             D5         D5-2"
      ]
     },
     "execution_count": 22,
     "metadata": {},
     "output_type": "execute_result"
    }
   ],
   "source": [
    "Senior_Teachers.head()"
   ]
  },
  {
   "cell_type": "code",
   "execution_count": 13,
   "id": "0b57ed86",
   "metadata": {
    "id": "0b57ed86",
    "scrolled": true
   },
   "outputs": [],
   "source": [
    "#http://www.semanticweb.org/keyha/ontologies/2022/3/untitled-ontology-11#\n",
    "\n",
    "# make a graph\n",
    "output_graph = Graph()\n",
    "uri=\"http://www.semanticweb.org/keyha/ontologies/2022/3/untitled-ontology-11#\"\n",
    "\n",
    "for index, row in Teaching_Assistants.iterrows():\n",
    "\n",
    "    # make a triple with the object as uri\n",
    "    output_graph.add(  (URIRef(uri+row.personID),\n",
    "                        URIRef(uri+\"Domain\"),\n",
    "                        URIRef(uri+\"Person\") ))\n",
    "    \n",
    "    output_graph.add(  (URIRef(uri+row.personName),\n",
    "                        URIRef(uri+\"Domain\"),\n",
    "                        URIRef(uri+\"Person\") ))\n",
    "    \n",
    "    output_graph.add(  (URIRef(uri+row.departmentName),\n",
    "                        URIRef(uri+\"Domain\"),\n",
    "                        URIRef(uri+\"Department\") ))\n",
    "    \n",
    "    output_graph.add(  (URIRef(uri+row.divisionName),\n",
    "                        URIRef(uri+\"Domain\"),\n",
    "                        URIRef(uri+\"Devision\") ))"
   ]
  },
  {
   "cell_type": "code",
   "execution_count": null,
   "id": "dxpg8YB2c3jk",
   "metadata": {
    "id": "dxpg8YB2c3jk"
   },
   "outputs": [],
   "source": []
  },
  {
   "cell_type": "markdown",
   "id": "DcLjPR8FbX2_",
   "metadata": {
    "id": "DcLjPR8FbX2_"
   },
   "source": [
    "# Course"
   ]
  },
  {
   "cell_type": "markdown",
   "id": "XLE6v5gTbX5j",
   "metadata": {
    "id": "XLE6v5gTbX5j"
   },
   "source": [
    "# ProgramCourses"
   ]
  },
  {
   "cell_type": "markdown",
   "id": "JiKWjCAhbX78",
   "metadata": {
    "id": "JiKWjCAhbX78"
   },
   "source": [
    "#Students"
   ]
  },
  {
   "cell_type": "markdown",
   "id": "pZiut3p4bX-0",
   "metadata": {
    "id": "pZiut3p4bX-0"
   },
   "source": [
    "# Reported_Hours"
   ]
  },
  {
   "cell_type": "markdown",
   "id": "9e_vyZjVbYBq",
   "metadata": {
    "id": "9e_vyZjVbYBq"
   },
   "source": [
    "# Registrations"
   ]
  },
  {
   "cell_type": "markdown",
   "id": "Ot13dbOMbYD-",
   "metadata": {
    "id": "Ot13dbOMbYD-"
   },
   "source": [
    "# Programmes"
   ]
  },
  {
   "cell_type": "markdown",
   "id": "JxYp_OMzbYGv",
   "metadata": {
    "id": "JxYp_OMzbYGv"
   },
   "source": [
    "#Course_Planning"
   ]
  },
  {
   "cell_type": "markdown",
   "id": "FYewyubPbYJN",
   "metadata": {
    "id": "FYewyubPbYJN"
   },
   "source": [
    "# Course_Instances"
   ]
  },
  {
   "cell_type": "markdown",
   "id": "X5GrVaYcbYMH",
   "metadata": {
    "id": "X5GrVaYcbYMH"
   },
   "source": [
    "#AssignedHours"
   ]
  },
  {
   "cell_type": "code",
   "execution_count": null,
   "id": "4fa9c8b1",
   "metadata": {
    "id": "4fa9c8b1"
   },
   "outputs": [],
   "source": []
  },
  {
   "cell_type": "markdown",
   "id": "XyCAKy7acyl2",
   "metadata": {
    "id": "XyCAKy7acyl2"
   },
   "source": [
    "# Graph output"
   ]
  },
  {
   "cell_type": "code",
   "execution_count": null,
   "id": "07b396d1",
   "metadata": {
    "id": "07b396d1"
   },
   "outputs": [],
   "source": [
    "output_graph.serialize('mycsv2rdf.ttl',format='turtle')"
   ]
  }
 ],
 "metadata": {
  "colab": {
   "collapsed_sections": [],
   "name": "Assignment 3 Advanced databases.ipynb",
   "provenance": []
  },
  "kernelspec": {
   "display_name": "Python 3 (ipykernel)",
   "language": "python",
   "name": "python3"
  },
  "language_info": {
   "codemirror_mode": {
    "name": "ipython",
    "version": 3
   },
   "file_extension": ".py",
   "mimetype": "text/x-python",
   "name": "python",
   "nbconvert_exporter": "python",
   "pygments_lexer": "ipython3",
   "version": "3.7.3"
  }
 },
 "nbformat": 4,
 "nbformat_minor": 5
}
