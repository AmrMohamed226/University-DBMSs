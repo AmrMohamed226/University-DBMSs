{
 "cells": [
  {
   "cell_type": "code",
   "execution_count": 21,
   "id": "4a233d20",
   "metadata": {},
   "outputs": [],
   "source": [
    "import csv\n",
    "from rdflib import Graph, Literal, Namespace, URIRef\n",
    "from rdflib.namespace import DCTERMS, RDF, RDFS, SKOS, XSD"
   ]
  },
  {
   "cell_type": "code",
   "execution_count": 22,
   "id": "f0434ab8",
   "metadata": {},
   "outputs": [],
   "source": [
    "Assigned_Hours=csv.DictReader(open('Assigned_Hours.csv'))\n",
    "Course_Instances=csv.DictReader(open('Course_Instances.csv'))\n",
    "Course_plannings=csv.DictReader(open('Course_plannings.csv'))\n",
    "Courses=csv.DictReader(open('Courses.csv'))\n",
    "Programme_Courses=csv.DictReader(open('Programme_Courses.csv'))\n",
    "Programmes=csv.DictReader(open('Programmes.csv'))\n",
    "Registrations=csv.DictReader(open('Registrations.csv'))\n",
    "Reported_Hours=csv.DictReader(open('Reported_Hours.csv'))\n",
    "Senior_Teachers=csv.DictReader(open('Senior_Teachers.csv'))\n",
    "Students=csv.DictReader(open('Students.csv'))\n",
    "Teaching_Assistants=csv.DictReader(open('Teaching_Assistants.csv'))"
   ]
  },
  {
   "cell_type": "code",
   "execution_count": 23,
   "id": "264d848c",
   "metadata": {},
   "outputs": [],
   "source": [
    "# mainDf=pd.DataFrame(columns=['subject','predicate','object'])"
   ]
  },
  {
   "cell_type": "code",
   "execution_count": 36,
   "id": "1a2b9fa0",
   "metadata": {},
   "outputs": [],
   "source": [
    "# make a graph\n",
    "output_graph = Graph()\n",
    "\n",
    "\n",
    "for row in Assigned_Hours:\n",
    "\n",
    "    # convert it from an OrderedDict to a regular dict\n",
    "    row = dict(row)\n",
    "\n",
    "    #{'Subject Label': 'Pearl Wilmer Booker', 'Subject URI': 'None', 'Predicate Label': 'Daughter Of', 'Predicate URI': '', 'Predicate Symmetry': 'Asymmetric', 'Object Label': 'Mary Booker', 'Object URI': 'None'}\n",
    "    # make a literal and add it\n",
    "    output_graph.add(  (URIRef(row['Course code']), RDFS.label, Literal(row['Teacher Id'], lang='en')) )\n",
    "\n",
    "    # make a triple with the object as uri\n",
    "#     output_graph.add(  (URIRef(row['Subject URI']), URIRef(row['Predicate URI']), URIRef(row['Object URI'])) )\t\n",
    "\n",
    "\n",
    "\n",
    "# output_graph.serialize(format='turtle')\n",
    "output_graph.serialize(destination='my_graph.nt', format='nt')"
   ]
  },
  {
   "cell_type": "code",
   "execution_count": 32,
   "id": "b912bd8c",
   "metadata": {},
   "outputs": [],
   "source": [
    "with open('rdfFiles//Assigned_Hours.ttl', 'wb') as file:\n",
    "    file.write(ttl)"
   ]
  },
  {
   "cell_type": "code",
   "execution_count": 1,
   "id": "5ff3d132",
   "metadata": {
    "scrolled": true
   },
   "outputs": [],
   "source": [
    "# print(output_graph.serialize(format='turtle').decode('UTF-8'))\n"
   ]
  },
  {
   "cell_type": "code",
   "execution_count": 37,
   "id": "435ddec4",
   "metadata": {},
   "outputs": [],
   "source": [
    "import pandas as pd\n",
    "import rdfpandas"
   ]
  },
  {
   "cell_type": "code",
   "execution_count": 38,
   "id": "3b4e489d",
   "metadata": {},
   "outputs": [],
   "source": [
    "Assigned_Hours=pd.read_csv('Assigned_Hours.csv')\n",
    "Course_Instances=pd.read_csv('Course_Instances.csv')\n",
    "Course_plannings=pd.read_csv('Course_plannings.csv')\n",
    "Courses=pd.read_csv('Courses.csv')\n",
    "Programme_Courses=pd.read_csv('Programme_Courses.csv')\n",
    "Programmes=pd.read_csv('Programmes.csv')\n",
    "Registrations=pd.read_csv('Registrations.csv')\n",
    "Reported_Hours=pd.read_csv('Reported_Hours.csv')\n",
    "Senior_Teachers=pd.read_csv('Senior_Teachers.csv')\n",
    "Students=pd.read_csv('Students.csv')\n",
    "Teaching_Assistants=pd.read_csv('Teaching_Assistants.csv')"
   ]
  },
  {
   "cell_type": "code",
   "execution_count": 39,
   "id": "2b30a0d9",
   "metadata": {
    "scrolled": false
   },
   "outputs": [
    {
     "data": {
      "text/html": [
       "<div>\n",
       "<style scoped>\n",
       "    .dataframe tbody tr th:only-of-type {\n",
       "        vertical-align: middle;\n",
       "    }\n",
       "\n",
       "    .dataframe tbody tr th {\n",
       "        vertical-align: top;\n",
       "    }\n",
       "\n",
       "    .dataframe thead th {\n",
       "        text-align: right;\n",
       "    }\n",
       "</style>\n",
       "<table border=\"1\" class=\"dataframe\">\n",
       "  <thead>\n",
       "    <tr style=\"text-align: right;\">\n",
       "      <th></th>\n",
       "      <th>Teacher name</th>\n",
       "      <th>Teacher id</th>\n",
       "      <th>Department name</th>\n",
       "      <th>Division name</th>\n",
       "    </tr>\n",
       "  </thead>\n",
       "  <tbody>\n",
       "    <tr>\n",
       "      <th>0</th>\n",
       "      <td>Teacher 1</td>\n",
       "      <td>19550711-0001</td>\n",
       "      <td>D1</td>\n",
       "      <td>D1-3</td>\n",
       "    </tr>\n",
       "    <tr>\n",
       "      <th>1</th>\n",
       "      <td>Teacher 2</td>\n",
       "      <td>19640131-0002</td>\n",
       "      <td>D3</td>\n",
       "      <td>D3-5</td>\n",
       "    </tr>\n",
       "    <tr>\n",
       "      <th>2</th>\n",
       "      <td>Teacher 3</td>\n",
       "      <td>19590109-0003</td>\n",
       "      <td>D7</td>\n",
       "      <td>D7-3</td>\n",
       "    </tr>\n",
       "    <tr>\n",
       "      <th>3</th>\n",
       "      <td>Teacher 4</td>\n",
       "      <td>19641017-0004</td>\n",
       "      <td>D1</td>\n",
       "      <td>D1-3</td>\n",
       "    </tr>\n",
       "    <tr>\n",
       "      <th>4</th>\n",
       "      <td>Teacher 5</td>\n",
       "      <td>19630316-0005</td>\n",
       "      <td>D5</td>\n",
       "      <td>D5-2</td>\n",
       "    </tr>\n",
       "  </tbody>\n",
       "</table>\n",
       "</div>"
      ],
      "text/plain": [
       "  Teacher name     Teacher id Department name Division name\n",
       "0    Teacher 1  19550711-0001              D1          D1-3\n",
       "1    Teacher 2  19640131-0002              D3          D3-5\n",
       "2    Teacher 3  19590109-0003              D7          D7-3\n",
       "3    Teacher 4  19641017-0004              D1          D1-3\n",
       "4    Teacher 5  19630316-0005              D5          D5-2"
      ]
     },
     "execution_count": 39,
     "metadata": {},
     "output_type": "execute_result"
    }
   ],
   "source": [
    "Senior_Teachers.head()"
   ]
  },
  {
   "cell_type": "code",
   "execution_count": 51,
   "id": "4a783c54",
   "metadata": {},
   "outputs": [
    {
     "data": {
      "text/html": [
       "<div>\n",
       "<style scoped>\n",
       "    .dataframe tbody tr th:only-of-type {\n",
       "        vertical-align: middle;\n",
       "    }\n",
       "\n",
       "    .dataframe tbody tr th {\n",
       "        vertical-align: top;\n",
       "    }\n",
       "\n",
       "    .dataframe thead th {\n",
       "        text-align: right;\n",
       "    }\n",
       "</style>\n",
       "<table border=\"1\" class=\"dataframe\">\n",
       "  <thead>\n",
       "    <tr style=\"text-align: right;\">\n",
       "      <th></th>\n",
       "      <th>Teacher name</th>\n",
       "      <th>Teacher id</th>\n",
       "      <th>Department name</th>\n",
       "      <th>Division name</th>\n",
       "    </tr>\n",
       "  </thead>\n",
       "  <tbody>\n",
       "    <tr>\n",
       "      <th>0</th>\n",
       "      <td>TA 151</td>\n",
       "      <td>19780321-0151</td>\n",
       "      <td>D1</td>\n",
       "      <td>D1-2</td>\n",
       "    </tr>\n",
       "    <tr>\n",
       "      <th>1</th>\n",
       "      <td>TA 152</td>\n",
       "      <td>19751107-0152</td>\n",
       "      <td>D7</td>\n",
       "      <td>D7-2</td>\n",
       "    </tr>\n",
       "    <tr>\n",
       "      <th>2</th>\n",
       "      <td>TA 153</td>\n",
       "      <td>19760106-0153</td>\n",
       "      <td>D7</td>\n",
       "      <td>D7-0</td>\n",
       "    </tr>\n",
       "    <tr>\n",
       "      <th>3</th>\n",
       "      <td>TA 154</td>\n",
       "      <td>19780210-0154</td>\n",
       "      <td>D6</td>\n",
       "      <td>D6-5</td>\n",
       "    </tr>\n",
       "    <tr>\n",
       "      <th>4</th>\n",
       "      <td>TA 155</td>\n",
       "      <td>19750330-0155</td>\n",
       "      <td>D1</td>\n",
       "      <td>D1-5</td>\n",
       "    </tr>\n",
       "  </tbody>\n",
       "</table>\n",
       "</div>"
      ],
      "text/plain": [
       "  Teacher name     Teacher id Department name Division name\n",
       "0       TA 151  19780321-0151              D1          D1-2\n",
       "1       TA 152  19751107-0152              D7          D7-2\n",
       "2       TA 153  19760106-0153              D7          D7-0\n",
       "3       TA 154  19780210-0154              D6          D6-5\n",
       "4       TA 155  19750330-0155              D1          D1-5"
      ]
     },
     "execution_count": 51,
     "metadata": {},
     "output_type": "execute_result"
    }
   ],
   "source": [
    "Teaching_Assistants.head()"
   ]
  },
  {
   "cell_type": "code",
   "execution_count": 54,
   "id": "103ec84e",
   "metadata": {},
   "outputs": [],
   "source": [
    "Teaching_Assistants= Teaching_Assistants.rename(columns={\"Teacher name\": \"personName\", \"Teacher id\": \"personID\", \"Department name\": \"departmentName\",\"Divison name\": \"divisionName\"})"
   ]
  },
  {
   "cell_type": "code",
   "execution_count": 55,
   "id": "da42fd98",
   "metadata": {},
   "outputs": [
    {
     "data": {
      "text/html": [
       "<div>\n",
       "<style scoped>\n",
       "    .dataframe tbody tr th:only-of-type {\n",
       "        vertical-align: middle;\n",
       "    }\n",
       "\n",
       "    .dataframe tbody tr th {\n",
       "        vertical-align: top;\n",
       "    }\n",
       "\n",
       "    .dataframe thead th {\n",
       "        text-align: right;\n",
       "    }\n",
       "</style>\n",
       "<table border=\"1\" class=\"dataframe\">\n",
       "  <thead>\n",
       "    <tr style=\"text-align: right;\">\n",
       "      <th></th>\n",
       "      <th>personName</th>\n",
       "      <th>personID</th>\n",
       "      <th>departmentName</th>\n",
       "      <th>Division name</th>\n",
       "    </tr>\n",
       "  </thead>\n",
       "  <tbody>\n",
       "    <tr>\n",
       "      <th>0</th>\n",
       "      <td>TA 151</td>\n",
       "      <td>19780321-0151</td>\n",
       "      <td>D1</td>\n",
       "      <td>D1-2</td>\n",
       "    </tr>\n",
       "    <tr>\n",
       "      <th>1</th>\n",
       "      <td>TA 152</td>\n",
       "      <td>19751107-0152</td>\n",
       "      <td>D7</td>\n",
       "      <td>D7-2</td>\n",
       "    </tr>\n",
       "    <tr>\n",
       "      <th>2</th>\n",
       "      <td>TA 153</td>\n",
       "      <td>19760106-0153</td>\n",
       "      <td>D7</td>\n",
       "      <td>D7-0</td>\n",
       "    </tr>\n",
       "    <tr>\n",
       "      <th>3</th>\n",
       "      <td>TA 154</td>\n",
       "      <td>19780210-0154</td>\n",
       "      <td>D6</td>\n",
       "      <td>D6-5</td>\n",
       "    </tr>\n",
       "    <tr>\n",
       "      <th>4</th>\n",
       "      <td>TA 155</td>\n",
       "      <td>19750330-0155</td>\n",
       "      <td>D1</td>\n",
       "      <td>D1-5</td>\n",
       "    </tr>\n",
       "  </tbody>\n",
       "</table>\n",
       "</div>"
      ],
      "text/plain": [
       "  personName       personID departmentName Division name\n",
       "0     TA 151  19780321-0151             D1          D1-2\n",
       "1     TA 152  19751107-0152             D7          D7-2\n",
       "2     TA 153  19760106-0153             D7          D7-0\n",
       "3     TA 154  19780210-0154             D6          D6-5\n",
       "4     TA 155  19750330-0155             D1          D1-5"
      ]
     },
     "execution_count": 55,
     "metadata": {},
     "output_type": "execute_result"
    }
   ],
   "source": [
    "Teaching_Assistants.head()"
   ]
  },
  {
   "cell_type": "code",
   "execution_count": 57,
   "id": "3b455171",
   "metadata": {},
   "outputs": [
    {
     "ename": "TypeError",
     "evalue": "add() takes 2 positional arguments but 4 were given",
     "output_type": "error",
     "traceback": [
      "\u001b[1;31m---------------------------------------------------------------------------\u001b[0m",
      "\u001b[1;31mTypeError\u001b[0m                                 Traceback (most recent call last)",
      "\u001b[1;32mC:\\Users\\ADMINI~1\\AppData\\Local\\Temp/ipykernel_2004/2263760077.py\u001b[0m in \u001b[0;36m<module>\u001b[1;34m\u001b[0m\n\u001b[0;32m     10\u001b[0m     output_graph.add(  \"http://www.semanticweb.org/keyha/ontologies/2022/3/untitled-ontology-11#\"+row.personName,\n\u001b[0;32m     11\u001b[0m                         \u001b[1;34m\"http://www.semanticweb.org/keyha/ontologies/2022/3/untitled-ontology-11#personID\"\u001b[0m\u001b[1;33m,\u001b[0m\u001b[1;33m\u001b[0m\u001b[1;33m\u001b[0m\u001b[0m\n\u001b[1;32m---> 12\u001b[1;33m                         \"http://www.semanticweb.org/keyha/ontologies/2022/3/untitled-ontology-11#\"+row.personID) \n\u001b[0m\u001b[0;32m     13\u001b[0m \u001b[1;33m\u001b[0m\u001b[0m\n\u001b[0;32m     14\u001b[0m \u001b[1;33m\u001b[0m\u001b[0m\n",
      "\u001b[1;31mTypeError\u001b[0m: add() takes 2 positional arguments but 4 were given"
     ]
    }
   ],
   "source": [
    "#http://www.semanticweb.org/keyha/ontologies/2022/3/untitled-ontology-11#\n",
    "\n",
    "# make a graph\n",
    "output_graph = Graph()\n",
    "\n",
    "\n",
    "for index, row in Teaching_Assistants.iterrows():\n",
    "\n",
    "    # make a triple with the object as uri\n",
    "#     output_graph.add(  (\"http://www.semanticweb.org/keyha/ontologies/2022/3/untitled-ontology-11#\"+row.personName,\n",
    "#                         \"http://www.semanticweb.org/keyha/ontologies/2022/3/untitled-ontology-11#personID\",\n",
    "#                         \"http://www.semanticweb.org/keyha/ontologies/2022/3/untitled-ontology-11#\"+row.personID) )\n",
    "    \n",
    "    \n",
    "    output_graph.add(URIRef(row.personName), RDF.type , FOAF.person) "
   ]
  },
  {
   "cell_type": "code",
   "execution_count": null,
   "id": "904d6dd6",
   "metadata": {},
   "outputs": [],
   "source": [
    "for row in Assigned_Hours.iterrows()[:5]:\n",
    "    print(row)"
   ]
  },
  {
   "cell_type": "code",
   "execution_count": 14,
   "id": "4d7bcb31",
   "metadata": {},
   "outputs": [],
   "source": [
    "g = rdfpandas.to_graph(Course_Instances)\n",
    "ttl = g.serialize(format = 'turtle')\n",
    "with open('rdfFiles//Course_Instances.ttl', 'wb') as file:\n",
    "    file.write(ttl)"
   ]
  },
  {
   "cell_type": "code",
   "execution_count": 27,
   "id": "7b08a577",
   "metadata": {},
   "outputs": [],
   "source": [
    "# from csvwlib import CSVWConverter\n",
    "\n",
    "# CSVWConverter.to_rdf(Course_plannings, format=\"ttl\")"
   ]
  }
 ],
 "metadata": {
  "kernelspec": {
   "display_name": "Python 3 (ipykernel)",
   "language": "python",
   "name": "python3"
  },
  "language_info": {
   "codemirror_mode": {
    "name": "ipython",
    "version": 3
   },
   "file_extension": ".py",
   "mimetype": "text/x-python",
   "name": "python",
   "nbconvert_exporter": "python",
   "pygments_lexer": "ipython3",
   "version": "3.7.3"
  }
 },
 "nbformat": 4,
 "nbformat_minor": 5
}
